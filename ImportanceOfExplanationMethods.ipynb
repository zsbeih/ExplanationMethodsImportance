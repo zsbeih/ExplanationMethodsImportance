{
  "cells": [
    {
      "cell_type": "markdown",
      "metadata": {
        "id": "U13R_VCSxJcK"
      },
      "source": [
        "# Imports and Device"
      ]
    },
    {
      "cell_type": "code",
      "execution_count": null,
      "metadata": {
        "colab": {
          "base_uri": "https://localhost:8080/"
        },
        "id": "2HZsCQqh4JUz",
        "outputId": "442167cb-7664-4671-b2b0-1c522d184e06"
      },
      "outputs": [
        {
          "name": "stdout",
          "output_type": "stream",
          "text": [
            "Collecting captum\n",
            "  Downloading captum-0.7.0-py3-none-any.whl.metadata (26 kB)\n",
            "Requirement already satisfied: matplotlib in /usr/local/lib/python3.10/dist-packages (from captum) (3.8.0)\n",
            "Requirement already satisfied: numpy in /usr/local/lib/python3.10/dist-packages (from captum) (1.26.4)\n",
            "Requirement already satisfied: torch>=1.6 in /usr/local/lib/python3.10/dist-packages (from captum) (2.5.1+cu121)\n",
            "Requirement already satisfied: tqdm in /usr/local/lib/python3.10/dist-packages (from captum) (4.66.6)\n",
            "Requirement already satisfied: filelock in /usr/local/lib/python3.10/dist-packages (from torch>=1.6->captum) (3.16.1)\n",
            "Requirement already satisfied: typing-extensions>=4.8.0 in /usr/local/lib/python3.10/dist-packages (from torch>=1.6->captum) (4.12.2)\n",
            "Requirement already satisfied: networkx in /usr/local/lib/python3.10/dist-packages (from torch>=1.6->captum) (3.4.2)\n",
            "Requirement already satisfied: jinja2 in /usr/local/lib/python3.10/dist-packages (from torch>=1.6->captum) (3.1.4)\n",
            "Requirement already satisfied: fsspec in /usr/local/lib/python3.10/dist-packages (from torch>=1.6->captum) (2024.10.0)\n",
            "Requirement already satisfied: sympy==1.13.1 in /usr/local/lib/python3.10/dist-packages (from torch>=1.6->captum) (1.13.1)\n",
            "Requirement already satisfied: mpmath<1.4,>=1.1.0 in /usr/local/lib/python3.10/dist-packages (from sympy==1.13.1->torch>=1.6->captum) (1.3.0)\n",
            "Requirement already satisfied: contourpy>=1.0.1 in /usr/local/lib/python3.10/dist-packages (from matplotlib->captum) (1.3.1)\n",
            "Requirement already satisfied: cycler>=0.10 in /usr/local/lib/python3.10/dist-packages (from matplotlib->captum) (0.12.1)\n",
            "Requirement already satisfied: fonttools>=4.22.0 in /usr/local/lib/python3.10/dist-packages (from matplotlib->captum) (4.55.0)\n",
            "Requirement already satisfied: kiwisolver>=1.0.1 in /usr/local/lib/python3.10/dist-packages (from matplotlib->captum) (1.4.7)\n",
            "Requirement already satisfied: packaging>=20.0 in /usr/local/lib/python3.10/dist-packages (from matplotlib->captum) (24.2)\n",
            "Requirement already satisfied: pillow>=6.2.0 in /usr/local/lib/python3.10/dist-packages (from matplotlib->captum) (11.0.0)\n",
            "Requirement already satisfied: pyparsing>=2.3.1 in /usr/local/lib/python3.10/dist-packages (from matplotlib->captum) (3.2.0)\n",
            "Requirement already satisfied: python-dateutil>=2.7 in /usr/local/lib/python3.10/dist-packages (from matplotlib->captum) (2.8.2)\n",
            "Requirement already satisfied: six>=1.5 in /usr/local/lib/python3.10/dist-packages (from python-dateutil>=2.7->matplotlib->captum) (1.16.0)\n",
            "Requirement already satisfied: MarkupSafe>=2.0 in /usr/local/lib/python3.10/dist-packages (from jinja2->torch>=1.6->captum) (3.0.2)\n",
            "Downloading captum-0.7.0-py3-none-any.whl (1.3 MB)\n",
            "\u001b[2K   \u001b[90m━━━━━━━━━━━━━━━━━━━━━━━━━━━━━━━━━━━━━━━━\u001b[0m \u001b[32m1.3/1.3 MB\u001b[0m \u001b[31m23.2 MB/s\u001b[0m eta \u001b[36m0:00:00\u001b[0m\n",
            "\u001b[?25hInstalling collected packages: captum\n",
            "Successfully installed captum-0.7.0\n"
          ]
        }
      ],
      "source": [
        "pip install captum"
      ]
    },
    {
      "cell_type": "code",
      "execution_count": null,
      "metadata": {
        "id": "4lNYiBQ3wwj8"
      },
      "outputs": [],
      "source": [
        "import torch\n",
        "import torch.nn as nn\n",
        "import torch.optim as optim\n",
        "from torchvision import datasets, transforms, models\n",
        "import numpy as np\n",
        "import matplotlib.pyplot as plt\n",
        "from captum.attr import IntegratedGradients, Saliency, ShapleyValueSampling\n",
        "\n",
        "device = torch.device(\"cuda\" if torch.cuda.is_available() else \"cpu\")"
      ]
    },
    {
      "cell_type": "markdown",
      "metadata": {
        "id": "a7IKKuGgxQVz"
      },
      "source": [
        "# Create Data Loaders Using CIFAR-10"
      ]
    },
    {
      "cell_type": "code",
      "execution_count": null,
      "metadata": {
        "colab": {
          "base_uri": "https://localhost:8080/"
        },
        "id": "dlwj4jo7wxM0",
        "outputId": "f7b61da6-ad26-4578-a8a1-e17849058c90"
      },
      "outputs": [
        {
          "name": "stdout",
          "output_type": "stream",
          "text": [
            "Downloading https://www.cs.toronto.edu/~kriz/cifar-10-python.tar.gz to ./data/cifar-10-python.tar.gz\n"
          ]
        },
        {
          "name": "stderr",
          "output_type": "stream",
          "text": [
            "100%|██████████| 170M/170M [00:04<00:00, 40.4MB/s]\n"
          ]
        },
        {
          "name": "stdout",
          "output_type": "stream",
          "text": [
            "Extracting ./data/cifar-10-python.tar.gz to ./data\n",
            "Files already downloaded and verified\n"
          ]
        }
      ],
      "source": [
        "transform = transforms.Compose([\n",
        "    transforms.ToTensor(),\n",
        "    transforms.Normalize((0.5, 0.5, 0.5), (0.5, 0.5, 0.5))\n",
        "])\n",
        "\n",
        "train_dataset = datasets.CIFAR10(root='./data', train=True, transform=transform, download=True)\n",
        "test_dataset = datasets.CIFAR10(root='./data', train=False, transform=transform, download=True)\n",
        "\n",
        "train_loader = torch.utils.data.DataLoader(train_dataset, batch_size=64, shuffle=True)\n",
        "test_loader = torch.utils.data.DataLoader(test_dataset, batch_size=64, shuffle=False)"
      ]
    },
    {
      "cell_type": "markdown",
      "metadata": {
        "id": "mjFRZDMRxcz-"
      },
      "source": [
        "# Initialize Model, Loss Function, and Optimizer"
      ]
    },
    {
      "cell_type": "code",
      "execution_count": null,
      "metadata": {
        "colab": {
          "base_uri": "https://localhost:8080/"
        },
        "id": "Z6Opj5q4w3vq",
        "outputId": "ac393d3f-5734-441b-eaad-90f8747301f2"
      },
      "outputs": [
        {
          "name": "stderr",
          "output_type": "stream",
          "text": [
            "/usr/local/lib/python3.10/dist-packages/torchvision/models/_utils.py:208: UserWarning: The parameter 'pretrained' is deprecated since 0.13 and may be removed in the future, please use 'weights' instead.\n",
            "  warnings.warn(\n",
            "/usr/local/lib/python3.10/dist-packages/torchvision/models/_utils.py:223: UserWarning: Arguments other than a weight enum or `None` for 'weights' are deprecated since 0.13 and may be removed in the future. The current behavior is equivalent to passing `weights=None`.\n",
            "  warnings.warn(msg)\n"
          ]
        }
      ],
      "source": [
        "model = models.resnet18(pretrained=False)\n",
        "model.fc = nn.Linear(model.fc.in_features, 10)\n",
        "model = model.to(device)\n",
        "\n",
        "loss_func = nn.CrossEntropyLoss()\n",
        "optimizer = optim.Adam(model.parameters(), lr=0.001)"
      ]
    },
    {
      "cell_type": "markdown",
      "metadata": {
        "id": "4cS9xBM3xs-3"
      },
      "source": [
        "# Train and Evaluate Model"
      ]
    },
    {
      "cell_type": "code",
      "execution_count": null,
      "metadata": {
        "colab": {
          "base_uri": "https://localhost:8080/"
        },
        "id": "dmKL2g9rw5n4",
        "outputId": "f92c1e66-7965-41e3-dfdc-279e9c7f296c"
      },
      "outputs": [
        {
          "name": "stdout",
          "output_type": "stream",
          "text": [
            "Epoch: 1, Loss: 1.3805\n",
            "Epoch: 2, Loss: 0.9769\n",
            "Epoch: 3, Loss: 0.7989\n",
            "Epoch: 4, Loss: 0.6747\n",
            "Epoch: 5, Loss: 0.5767\n",
            "Epoch: 6, Loss: 0.4833\n",
            "Epoch: 7, Loss: 0.3994\n",
            "Epoch: 8, Loss: 0.3257\n",
            "Epoch: 9, Loss: 0.2591\n",
            "Epoch: 10, Loss: 0.2100\n"
          ]
        }
      ],
      "source": [
        "def train_model(num_epochs=10):\n",
        "    model.train()\n",
        "    for epoch in range(num_epochs):\n",
        "        total_loss = 0\n",
        "        for images, labels in train_loader:\n",
        "            images, labels = images.to(device), labels.to(device)\n",
        "            optimizer.zero_grad()\n",
        "            outputs = model(images)\n",
        "            loss = loss_func(outputs, labels)\n",
        "            loss.backward()\n",
        "            optimizer.step()\n",
        "            total_loss += loss.item()\n",
        "        print(f\"Epoch: {epoch+1}, Loss: {total_loss/len(train_loader):.4f}\")\n",
        "\n",
        "train_model()\n"
      ]
    },
    {
      "cell_type": "code",
      "execution_count": null,
      "metadata": {
        "colab": {
          "base_uri": "https://localhost:8080/"
        },
        "id": "-zHLsNNyw7R4",
        "outputId": "435ff017-3efb-4d2e-cf1f-80ede35dd567"
      },
      "outputs": [
        {
          "name": "stdout",
          "output_type": "stream",
          "text": [
            "Accuracy: 76.79%\n"
          ]
        }
      ],
      "source": [
        "def evaluate_model():\n",
        "    model.eval()\n",
        "    total = 0\n",
        "    correct = 0\n",
        "    with torch.no_grad():\n",
        "        for images, labels in test_loader:\n",
        "            images, labels = images.to(device), labels.to(device)\n",
        "            outputs = model(images)\n",
        "            _, predicted = torch.max(outputs, 1)\n",
        "            total += labels.size(0)\n",
        "            correct += (predicted == labels).sum().item()\n",
        "    print(f\"Accuracy: {100 * correct / total:.2f}%\")\n",
        "\n",
        "evaluate_model()"
      ]
    },
    {
      "cell_type": "markdown",
      "metadata": {
        "id": "Y3oSX7Wb4rDq"
      },
      "source": [
        "# Get and Visualize Attribution Scores from Explanation Methods"
      ]
    },
    {
      "cell_type": "code",
      "execution_count": null,
      "metadata": {
        "id": "mUA4u3YO_nls"
      },
      "outputs": [],
      "source": [
        "def integrated_gradients_attri(model, image, label):\n",
        "    ig = IntegratedGradients(model)\n",
        "    attributions = ig.attribute(image.unsqueeze(0), target=label)\n",
        "    return attributions\n",
        "\n",
        "def saliency_attri(model, image, label):\n",
        "    saliency = Saliency(model)\n",
        "    attributions = saliency.attribute(image.unsqueeze(0), target=label)\n",
        "    return attributions\n",
        "\n",
        "def shapley_attri(model, image, label):\n",
        "    shapley = ShapleyValueSampling(model)\n",
        "    attributions = shapley.attribute(image.unsqueeze(0), target=label)\n",
        "    return attributions\n",
        "\n",
        "def display_images_explanations(image, true_label, predicted_label, attributions_ig, attributions_saliency, attributions_shapley):\n",
        "    image = (image * 0.5) + 0.5\n",
        "    image = image.detach().permute(1, 2, 0).cpu().numpy()\n",
        "    image = np.clip(image, 0, 1)\n",
        "\n",
        "    # Get attributions\n",
        "    attributions_ig = attributions_ig.squeeze(0).detach().cpu().numpy().transpose(1, 2, 0)\n",
        "    attributions_saliency = attributions_saliency.squeeze(0).detach().cpu().numpy().transpose(1, 2, 0)\n",
        "    attributions_shapley = attributions_shapley.squeeze(0).detach().cpu().numpy().transpose(1, 2, 0)\n",
        "\n",
        "    # Normalize attributions on 0 to 1 scale for easier understanding\n",
        "    attributions_ig = np.sum(np.abs(attributions_ig), axis=-1)\n",
        "    attributions_ig -= attributions_ig.min()\n",
        "    attributions_ig /= attributions_ig.max()\n",
        "\n",
        "    attributions_saliency = np.sum(np.abs(attributions_saliency), axis=-1)\n",
        "    attributions_saliency -= attributions_saliency.min()\n",
        "    attributions_saliency /= attributions_saliency.max()\n",
        "\n",
        "    attributions_shapley = np.sum(np.abs(attributions_shapley), axis=-1)\n",
        "    attributions_shapley -= attributions_shapley.min()\n",
        "    attributions_shapley /= attributions_shapley.max()\n",
        "\n",
        "    fig, columns = plt.subplots(1, 4, figsize=(20, 5))\n",
        "\n",
        "    # Plot original image\n",
        "    columns[0].imshow(image)\n",
        "    columns[0].set_title(f\"Original Image\\nTrue Label: {true_label}, Predicted Label: {predicted_label}\")\n",
        "    columns[0].axis(\"off\")\n",
        "\n",
        "    # Plot Integrated Gradients Image\n",
        "    ig_img = columns[1].imshow(attributions_ig, cmap='hot', interpolation='nearest')\n",
        "    columns[1].set_title(\"Integrated Gradients\")\n",
        "    columns[1].axis(\"off\")\n",
        "    plt.colorbar(ig_img, ax=columns[1])\n",
        "\n",
        "    # Plot Saliency Map Image\n",
        "    saliency_img = columns[2].imshow(attributions_saliency, cmap='hot', interpolation='nearest')\n",
        "    columns[2].set_title(\"Saliency\")\n",
        "    columns[2].axis(\"off\")\n",
        "    plt.colorbar(saliency_img, ax=columns[2])\n",
        "\n",
        "    # Plot Shapley Values Image\n",
        "    shapley_img = columns[3].imshow(attributions_shapley, cmap='hot', interpolation='nearest')\n",
        "    columns[3].set_title(\"Shapley Value Sampling\")\n",
        "    columns[3].axis(\"off\")\n",
        "    plt.colorbar(shapley_img, ax=columns[3])\n",
        "\n",
        "    plt.tight_layout()\n",
        "    plt.show()\n",
        "\n",
        "\n"
      ]
    },
    {
      "cell_type": "code",
      "execution_count": null,
      "metadata": {
        "colab": {
          "base_uri": "https://localhost:8080/",
          "height": 531
        },
        "id": "dDr_IJVk4iOz",
        "outputId": "7d527e14-2329-4b72-afad-c6ee2c796687"
      },
      "outputs": [
        {
          "output_type": "display_data",
          "data": {
            "text/plain": [
              "<Figure size 2000x500 with 7 Axes>"
            ],
            "image/png": "[encoded data removed]"
          },
          "metadata": {}
        }
      ],
      "source": [
        "# Visualize attributions for 5 images\n",
        "images = []\n",
        "labels = []\n",
        "\n",
        "for i in range(5):\n",
        "    img, label = test_dataset[i]\n",
        "    images.append(img.to(device))\n",
        "    labels.append(label)\n",
        "\n",
        "model.eval()\n",
        "with torch.set_grad_enabled(True):\n",
        "    for img, true_label in zip(images, labels):\n",
        "        img.requires_grad = True\n",
        "\n",
        "        # Get model's predicted label\n",
        "        predicted_label = model(img.unsqueeze(0)).argmax(dim=1).item()\n",
        "\n",
        "        # Get attributions\n",
        "        attributions_ig = integrated_gradients_attri(model, img, true_label)\n",
        "        attributions_saliency = saliency_attri(model, img, true_label)\n",
        "        attributions_shapley = shapley_attri(model, img, true_label)\n",
        "\n",
        "        # Display image with both true and predicted labels\n",
        "        display_images_explanations(img, true_label, predicted_label, attributions_ig, attributions_saliency, attributions_shapley)"
      ]
    }
  ],
  "metadata": {
    "accelerator": "GPU",
    "colab": {
      "gpuType": "T4",
      "provenance": []
    },
    "kernelspec": {
      "display_name": "Python 3",
      "name": "python3"
    },
    "language_info": {
      "name": "python"
    }
  },
  "nbformat": 4,
  "nbformat_minor": 0
}
